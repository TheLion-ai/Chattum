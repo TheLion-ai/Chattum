{
 "cells": [
  {
   "cell_type": "code",
   "execution_count": 2,
   "metadata": {},
   "outputs": [
    {
     "name": "stdout",
     "output_type": "stream",
     "text": [
      "Collecting requests\n",
      "  Using cached requests-2.31.0-py3-none-any.whl (62 kB)\n",
      "Collecting charset-normalizer<4,>=2\n",
      "  Downloading charset_normalizer-3.3.2-cp310-cp310-macosx_11_0_arm64.whl (120 kB)\n",
      "\u001b[2K     \u001b[90m━━━━━━━━━━━━━━━━━━━━━━━━━━━━━━━━━━━━━━━\u001b[0m \u001b[32m120.4/120.4 kB\u001b[0m \u001b[31m1.6 MB/s\u001b[0m eta \u001b[36m0:00:00\u001b[0ma \u001b[36m0:00:01\u001b[0m\n",
      "\u001b[?25hCollecting urllib3<3,>=1.21.1\n",
      "  Using cached urllib3-2.0.7-py3-none-any.whl (124 kB)\n",
      "Collecting certifi>=2017.4.17\n",
      "  Using cached certifi-2023.7.22-py3-none-any.whl (158 kB)\n",
      "Collecting idna<4,>=2.5\n",
      "  Using cached idna-3.4-py3-none-any.whl (61 kB)\n",
      "Installing collected packages: urllib3, idna, charset-normalizer, certifi, requests\n",
      "Successfully installed certifi-2023.7.22 charset-normalizer-3.3.2 idna-3.4 requests-2.31.0 urllib3-2.0.7\n",
      "\n",
      "\u001b[1m[\u001b[0m\u001b[34;49mnotice\u001b[0m\u001b[1;39;49m]\u001b[0m\u001b[39;49m A new release of pip is available: \u001b[0m\u001b[31;49m23.0.1\u001b[0m\u001b[39;49m -> \u001b[0m\u001b[32;49m23.3.1\u001b[0m\n",
      "\u001b[1m[\u001b[0m\u001b[34;49mnotice\u001b[0m\u001b[1;39;49m]\u001b[0m\u001b[39;49m To update, run: \u001b[0m\u001b[32;49mpip install --upgrade pip\u001b[0m\n"
     ]
    }
   ],
   "source": [
    "!pip install requests"
   ]
  },
  {
   "cell_type": "code",
   "execution_count": 3,
   "metadata": {},
   "outputs": [],
   "source": [
    "import requests"
   ]
  },
  {
   "cell_type": "code",
   "execution_count": 8,
   "metadata": {},
   "outputs": [],
   "source": [
    "username = \"test_user\"\n",
    "bot_name = \"test_bot\"\n",
    "base_url = \"http://localhost:8000\""
   ]
  },
  {
   "cell_type": "code",
   "execution_count": 10,
   "metadata": {},
   "outputs": [],
   "source": [
    "bot_id = requests.put(\n",
    "        f\"{base_url}/{username}/bots\", json={\"name\": bot_name, \"username\": username}\n",
    "    ).json()[\"bot_id\"]\n"
   ]
  },
  {
   "cell_type": "code",
   "execution_count": 11,
   "metadata": {},
   "outputs": [],
   "source": [
    "available_tools = requests.get(f\"{base_url}/{username}/bots/{bot_id}/tools/available_tools\")"
   ]
  },
  {
   "cell_type": "code",
   "execution_count": 13,
   "metadata": {},
   "outputs": [
    {
     "data": {
      "text/plain": [
       "[{'id': None,\n",
       "  'name': 'Post Tool',\n",
       "  'description': 'use this tool to sent data to a server.',\n",
       "  'user_description': 'use this tool to sent data to a server.',\n",
       "  'user_variables': [{'name': 'url',\n",
       "    'description': 'The url of the request',\n",
       "    'value': None,\n",
       "    'form_type': 'text'},\n",
       "   {'name': 'body',\n",
       "    'description': 'The body of the request',\n",
       "    'value': None,\n",
       "    'form_type': 'editor'}]},\n",
       " {'id': None,\n",
       "  'name': 'Send sms tool',\n",
       "  'description': 'use this tool to sent sms to a phone number.',\n",
       "  'user_description': 'sent sms to a phone number.',\n",
       "  'user_variables': [{'name': 'account_sid',\n",
       "    'description': 'Account SID',\n",
       "    'value': None,\n",
       "    'form_type': 'text'},\n",
       "   {'name': 'auth_token',\n",
       "    'description': 'Auth Token',\n",
       "    'value': None,\n",
       "    'form_type': 'text'},\n",
       "   {'name': 'from_number',\n",
       "    'description': 'From number',\n",
       "    'value': None,\n",
       "    'form_type': 'text'}]}]"
      ]
     },
     "execution_count": 13,
     "metadata": {},
     "output_type": "execute_result"
    }
   ],
   "source": [
    "available_tools.json()"
   ]
  },
  {
   "cell_type": "code",
   "execution_count": 18,
   "metadata": {},
   "outputs": [],
   "source": [
    "available_tools_dict = {tool[\"name\"]: tool for tool in available_tools.json()}"
   ]
  },
  {
   "cell_type": "code",
   "execution_count": 19,
   "metadata": {},
   "outputs": [
    {
     "data": {
      "text/plain": [
       "{'Post Tool': {'id': None,\n",
       "  'name': 'Post Tool',\n",
       "  'description': 'use this tool to sent data to a server.',\n",
       "  'user_description': 'use this tool to sent data to a server.',\n",
       "  'user_variables': [{'name': 'url',\n",
       "    'description': 'The url of the request',\n",
       "    'value': None,\n",
       "    'form_type': 'text'},\n",
       "   {'name': 'body',\n",
       "    'description': 'The body of the request',\n",
       "    'value': None,\n",
       "    'form_type': 'editor'}]},\n",
       " 'Send sms tool': {'id': None,\n",
       "  'name': 'Send sms tool',\n",
       "  'description': 'use this tool to sent sms to a phone number.',\n",
       "  'user_description': 'sent sms to a phone number.',\n",
       "  'user_variables': [{'name': 'account_sid',\n",
       "    'description': 'Account SID',\n",
       "    'value': None,\n",
       "    'form_type': 'text'},\n",
       "   {'name': 'auth_token',\n",
       "    'description': 'Auth Token',\n",
       "    'value': None,\n",
       "    'form_type': 'text'},\n",
       "   {'name': 'from_number',\n",
       "    'description': 'From number',\n",
       "    'value': None,\n",
       "    'form_type': 'text'}]}}"
      ]
     },
     "execution_count": 19,
     "metadata": {},
     "output_type": "execute_result"
    }
   ],
   "source": [
    "available_tools_dict"
   ]
  },
  {
   "cell_type": "markdown",
   "metadata": {},
   "source": [
    "# Sent data in post request\n"
   ]
  },
  {
   "cell_type": "code",
   "execution_count": 20,
   "metadata": {},
   "outputs": [],
   "source": [
    "post_tool = available_tools_dict[\"Post Tool\"]"
   ]
  },
  {
   "cell_type": "code",
   "execution_count": 90,
   "metadata": {},
   "outputs": [],
   "source": [
    "user_variables = {\n",
    "    \"url\" : \"https://webhook.site/e0912999-b47d-4f48-8dd4-b68af0d42955\",\n",
    "    \"body\" : \"\"\"{\n",
    "        \"username\" : \"{{username}}\",\n",
    "        \"favorite_color\" : \"{{favorite_color}}\"\n",
    "    }\n",
    "    \"\"\"\n",
    "}"
   ]
  },
  {
   "cell_type": "code",
   "execution_count": 91,
   "metadata": {},
   "outputs": [],
   "source": [
    "for user_variable in post_tool[\"user_variables\"]:\n",
    "    user_variable[\"value\"] = user_variables[user_variable[\"name\"]]"
   ]
  },
  {
   "cell_type": "code",
   "execution_count": 92,
   "metadata": {},
   "outputs": [
    {
     "data": {
      "text/plain": [
       "{'id': None,\n",
       " 'name': 'Post Tool',\n",
       " 'description': 'use this tool to sent data to a server.',\n",
       " 'user_description': 'use this tool to sent data to a server.',\n",
       " 'user_variables': [{'name': 'url',\n",
       "   'description': 'The url of the request',\n",
       "   'value': 'https://webhook.site/e0912999-b47d-4f48-8dd4-b68af0d42955',\n",
       "   'form_type': 'text'},\n",
       "  {'name': 'body',\n",
       "   'description': 'The body of the request',\n",
       "   'value': '{\\n        \"username\" : \"{{username}}\",\\n        \"favorite_color\" : \"{{favorite_color}}\"\\n    }\\n    ',\n",
       "   'form_type': 'editor'}]}"
      ]
     },
     "execution_count": 92,
     "metadata": {},
     "output_type": "execute_result"
    }
   ],
   "source": [
    "post_tool"
   ]
  },
  {
   "cell_type": "code",
   "execution_count": 93,
   "metadata": {},
   "outputs": [
    {
     "data": {
      "text/plain": [
       "<Response [200]>"
      ]
     },
     "execution_count": 93,
     "metadata": {},
     "output_type": "execute_result"
    }
   ],
   "source": [
    "requests.put(f\"{base_url}/{username}/bots/{bot_id}/tools\", json=post_tool)"
   ]
  },
  {
   "cell_type": "code",
   "execution_count": 94,
   "metadata": {},
   "outputs": [],
   "source": [
    "bot_tools = requests.get(f\"{base_url}/{username}/bots/{bot_id}/tools\").json()"
   ]
  },
  {
   "cell_type": "code",
   "execution_count": 95,
   "metadata": {},
   "outputs": [
    {
     "data": {
      "text/plain": [
       "[{'id': '6547a5b78c5baf5bbd386050',\n",
       "  'name': 'Post Tool',\n",
       "  'description': 'use this tool to sent data to a server.',\n",
       "  'user_description': 'use this tool to sent data to a server.',\n",
       "  'user_variables': [{'name': 'url',\n",
       "    'description': 'The url of the request',\n",
       "    'value': 'https://webhook.site/e0912999-b47d-4f48-8dd4-b68af0d42955',\n",
       "    'form_type': 'text'},\n",
       "   {'name': 'body',\n",
       "    'description': 'The body of the request',\n",
       "    'value': '{\\n        \"username\" : \"{{name}}\",\\n        \"favorite_color\" : \"{{favorite_color}}\"\\n    }\\n    ',\n",
       "    'form_type': 'editor'}]},\n",
       " {'id': '654802f38c5baf5bbd386057',\n",
       "  'name': 'Post Tool',\n",
       "  'description': 'use this tool to sent data to a server.',\n",
       "  'user_description': 'use this tool to sent data to a server.',\n",
       "  'user_variables': [{'name': 'url',\n",
       "    'description': 'The url of the request',\n",
       "    'value': 'https://webhook.site/e0912999-b47d-4f48-8dd4-b68af0d42955',\n",
       "    'form_type': 'text'},\n",
       "   {'name': 'body',\n",
       "    'description': 'The body of the request',\n",
       "    'value': '{\\n        \"username\" : \"{{username}}\",\\n        \"favorite_color\" : \"{{favorite_color}}\"\\n    }\\n    ',\n",
       "    'form_type': 'editor'}]}]"
      ]
     },
     "execution_count": 95,
     "metadata": {},
     "output_type": "execute_result"
    }
   ],
   "source": [
    "bot_tools"
   ]
  },
  {
   "cell_type": "code",
   "execution_count": 96,
   "metadata": {},
   "outputs": [
    {
     "data": {
      "text/plain": [
       "<Response [200]>"
      ]
     },
     "execution_count": 96,
     "metadata": {},
     "output_type": "execute_result"
    }
   ],
   "source": [
    "prompt = \"Your role is to collect names and favorite colors from the user and sent it to the server\"\n",
    "\n",
    "requests.put(f\"{base_url}/{username}/bots/{bot_id}/prompt\", json={\"prompt\": prompt})\n"
   ]
  },
  {
   "cell_type": "code",
   "execution_count": 97,
   "metadata": {},
   "outputs": [],
   "source": [
    "response = requests.post(f\"{base_url}/{username}/bots/{bot_id}/chat\", json={\"message\": \"Hello, my name is John and my favorite color is blue\"})"
   ]
  },
  {
   "cell_type": "code",
   "execution_count": 88,
   "metadata": {},
   "outputs": [
    {
     "data": {
      "text/plain": [
       "{'conversation_id': '6547ad1c8c5baf5bbd386054',\n",
       " 'message': 'Thank you for providing your information!'}"
      ]
     },
     "execution_count": 88,
     "metadata": {},
     "output_type": "execute_result"
    }
   ],
   "source": [
    "response.json()"
   ]
  },
  {
   "cell_type": "code",
   "execution_count": 98,
   "metadata": {},
   "outputs": [
    {
     "name": "stdout",
     "output_type": "stream",
     "text": [
      "{\"username\": \"John\", \"favorite_color\": \"blue\"}\n"
     ]
    }
   ],
   "source": [
    "import requests\n",
    "\n",
    "token_id = \"e0912999-b47d-4f48-8dd4-b68af0d42955\"\n",
    "\n",
    "r = requests.get('https://webhook.site/token/'+ token_id +'/requests?sorting=newest')\n",
    "\n",
    "print(r.json()['data'][0]['content'])"
   ]
  },
  {
   "cell_type": "code",
   "execution_count": 41,
   "metadata": {},
   "outputs": [
    {
     "data": {
      "text/plain": [
       "[{'id': '6547a19e8c5baf5bbd386049',\n",
       "  'name': 'Post Tool',\n",
       "  'description': 'use this tool to sent data to a server.',\n",
       "  'user_description': 'use this tool to sent data to a server.',\n",
       "  'user_variables': [{'name': 'url',\n",
       "    'description': 'The url of the request',\n",
       "    'value': 'https://webhook.site/e0912999-b47d-4f48-8dd4-b68af0d42955',\n",
       "    'form_type': 'text'},\n",
       "   {'name': 'body',\n",
       "    'description': 'The body of the request',\n",
       "    'value': '\\n    {\\n        username: {{name}},\\n        favorite_color: {{favorite_color}}\\n    }\\n    ',\n",
       "    'form_type': 'editor'}]}]"
      ]
     },
     "execution_count": 41,
     "metadata": {},
     "output_type": "execute_result"
    }
   ],
   "source": [
    "bot_tools"
   ]
  },
  {
   "cell_type": "markdown",
   "metadata": {},
   "source": [
    "# Delete all tools\n"
   ]
  },
  {
   "cell_type": "code",
   "execution_count": 64,
   "metadata": {},
   "outputs": [],
   "source": [
    "bot_tools = requests.get(f\"{base_url}/{username}/bots/{bot_id}/tools\").json()\n"
   ]
  },
  {
   "cell_type": "code",
   "execution_count": 63,
   "metadata": {},
   "outputs": [],
   "source": [
    "for tool in bot_tools:\n",
    "    requests.delete(f\"{base_url}/{username}/bots/{bot_id}/tools/{tool['id']}\")"
   ]
  }
 ],
 "metadata": {
  "kernelspec": {
   "display_name": "Python 3",
   "language": "python",
   "name": "python3"
  },
  "language_info": {
   "codemirror_mode": {
    "name": "ipython",
    "version": 3
   },
   "file_extension": ".py",
   "mimetype": "text/x-python",
   "name": "python",
   "nbconvert_exporter": "python",
   "pygments_lexer": "ipython3",
   "version": "3.10.12"
  }
 },
 "nbformat": 4,
 "nbformat_minor": 2
}
